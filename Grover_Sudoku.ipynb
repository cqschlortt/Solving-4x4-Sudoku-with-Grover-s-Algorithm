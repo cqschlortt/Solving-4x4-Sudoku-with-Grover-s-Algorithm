{
  "nbformat": 4,
  "nbformat_minor": 0,
  "metadata": {
    "colab": {
      "provenance": [],
      "collapsed_sections": [
        "D5X-dEVoGrB2",
        "8AXHf-XRIO0r"
      ],
      "include_colab_link": true
    },
    "kernelspec": {
      "name": "python3",
      "display_name": "Python 3"
    },
    "language_info": {
      "name": "python"
    }
  },
  "cells": [
    {
      "cell_type": "markdown",
      "metadata": {
        "id": "view-in-github",
        "colab_type": "text"
      },
      "source": [
        "<a href=\"https://colab.research.google.com/github/cqschlortt/Solving-4x4-Sudoku-with-Grover-s-Algorithm/blob/main/Grover_Sudoku.ipynb\" target=\"_parent\"><img src=\"https://colab.research.google.com/assets/colab-badge.svg\" alt=\"Open In Colab\"/></a>"
      ]
    },
    {
      "cell_type": "markdown",
      "source": [
        "#Solve a 4x4 sudoku puzzle using Grover's Algorithm\n",
        "\n",
        "The following code solves a 4x4 sudoku puzzle.  There are two different methods utilized, named oracle_1 and oracle_2.  \n",
        "\n",
        "oracle_1 solves the sudoku puzzle by building a list of constraints which compare two cells at a time and checks that no number is repeated in each row, column, and block.  However, due to the fact that the size of the constraint list grows quickly as the number of empty cells increasses, it only runs in qiskit for very few empty cells (ie less than 4 empty cells) as more conditions requires more memory than qiskit is capable of.\n",
        "\n",
        "oracle_2 actually solves a latin squares problem (ie only checks rows and columns), but will run for a higher number of empty cells (less than 8) since it requires fewer ancilla registers for the conditions."
      ],
      "metadata": {
        "id": "_JVy6AciNHaC"
      }
    },
    {
      "cell_type": "markdown",
      "source": [
        "## Preliminaries\n",
        "\n",
        "In this section we will create several global variables to be used throughout the program for both oracles.\n",
        "\n",
        "###A\n",
        "\n",
        "A is the given puzzle with a certain number of blank space represented by '*' in an n^2xn^2 array\n",
        "\n",
        "###location_b\n",
        "\n",
        "location_b is a list containing the row and column number of each blank cell\n",
        "\n",
        "###sp\n",
        "\n",
        "sp is the number of blank cells in the given puzzle\n",
        "\n",
        "###iterations\n",
        "\n",
        "iterations is the number of times to run the algorithm to get the optimal solution"
      ],
      "metadata": {
        "id": "-KtzbAdBNAxt"
      }
    },
    {
      "cell_type": "markdown",
      "source": [
        "### Install needed packages and import"
      ],
      "metadata": {
        "id": "8jWw22WbCa2f"
      }
    },
    {
      "cell_type": "code",
      "source": [
        "%pip install qiskit numpy\n",
        "%pip install pylatexenc\n",
        "%pip install qiskit_aer"
      ],
      "metadata": {
        "colab": {
          "base_uri": "https://localhost:8080/"
        },
        "id": "x5DRmm3y4tWw",
        "outputId": "c8b5a8df-656f-478d-af27-4a6a4d43b6df"
      },
      "execution_count": 63,
      "outputs": [
        {
          "output_type": "stream",
          "name": "stdout",
          "text": [
            "Requirement already satisfied: qiskit in /usr/local/lib/python3.11/dist-packages (2.1.0)\n",
            "Requirement already satisfied: numpy in /usr/local/lib/python3.11/dist-packages (2.0.2)\n",
            "Requirement already satisfied: rustworkx>=0.15.0 in /usr/local/lib/python3.11/dist-packages (from qiskit) (0.16.0)\n",
            "Requirement already satisfied: scipy>=1.5 in /usr/local/lib/python3.11/dist-packages (from qiskit) (1.15.3)\n",
            "Requirement already satisfied: dill>=0.3 in /usr/local/lib/python3.11/dist-packages (from qiskit) (0.3.7)\n",
            "Requirement already satisfied: stevedore>=3.0.0 in /usr/local/lib/python3.11/dist-packages (from qiskit) (5.4.1)\n",
            "Requirement already satisfied: typing-extensions in /usr/local/lib/python3.11/dist-packages (from qiskit) (4.14.0)\n",
            "Requirement already satisfied: pbr>=2.0.0 in /usr/local/lib/python3.11/dist-packages (from stevedore>=3.0.0->qiskit) (6.1.1)\n",
            "Requirement already satisfied: setuptools in /usr/local/lib/python3.11/dist-packages (from pbr>=2.0.0->stevedore>=3.0.0->qiskit) (75.2.0)\n",
            "Requirement already satisfied: pylatexenc in /usr/local/lib/python3.11/dist-packages (2.10)\n",
            "Requirement already satisfied: qiskit_aer in /usr/local/lib/python3.11/dist-packages (0.17.1)\n",
            "Requirement already satisfied: qiskit>=1.1.0 in /usr/local/lib/python3.11/dist-packages (from qiskit_aer) (2.1.0)\n",
            "Requirement already satisfied: numpy>=1.16.3 in /usr/local/lib/python3.11/dist-packages (from qiskit_aer) (2.0.2)\n",
            "Requirement already satisfied: scipy>=1.0 in /usr/local/lib/python3.11/dist-packages (from qiskit_aer) (1.15.3)\n",
            "Requirement already satisfied: psutil>=5 in /usr/local/lib/python3.11/dist-packages (from qiskit_aer) (5.9.5)\n",
            "Requirement already satisfied: python-dateutil>=2.8.0 in /usr/local/lib/python3.11/dist-packages (from qiskit_aer) (2.9.0.post0)\n",
            "Requirement already satisfied: six>=1.5 in /usr/local/lib/python3.11/dist-packages (from python-dateutil>=2.8.0->qiskit_aer) (1.17.0)\n",
            "Requirement already satisfied: rustworkx>=0.15.0 in /usr/local/lib/python3.11/dist-packages (from qiskit>=1.1.0->qiskit_aer) (0.16.0)\n",
            "Requirement already satisfied: dill>=0.3 in /usr/local/lib/python3.11/dist-packages (from qiskit>=1.1.0->qiskit_aer) (0.3.7)\n",
            "Requirement already satisfied: stevedore>=3.0.0 in /usr/local/lib/python3.11/dist-packages (from qiskit>=1.1.0->qiskit_aer) (5.4.1)\n",
            "Requirement already satisfied: typing-extensions in /usr/local/lib/python3.11/dist-packages (from qiskit>=1.1.0->qiskit_aer) (4.14.0)\n",
            "Requirement already satisfied: pbr>=2.0.0 in /usr/local/lib/python3.11/dist-packages (from stevedore>=3.0.0->qiskit>=1.1.0->qiskit_aer) (6.1.1)\n",
            "Requirement already satisfied: setuptools in /usr/local/lib/python3.11/dist-packages (from pbr>=2.0.0->stevedore>=3.0.0->qiskit>=1.1.0->qiskit_aer) (75.2.0)\n"
          ]
        }
      ]
    },
    {
      "cell_type": "code",
      "execution_count": 64,
      "metadata": {
        "id": "uH0qYYCE4RU-"
      },
      "outputs": [],
      "source": [
        "from qiskit.circuit import QuantumCircuit, QuantumRegister, AncillaRegister, ClassicalRegister\n",
        "from qiskit.quantum_info import Statevector, Operator\n",
        "\n",
        "import matplotlib.pyplot as plt\n",
        "from itertools import permutations\n",
        "\n",
        "from qiskit_aer import AerSimulator, Aer\n",
        "from qiskit.compiler import transpile\n",
        "\n",
        "import numpy as np"
      ]
    },
    {
      "cell_type": "markdown",
      "source": [
        "### Create test puzzle for the program"
      ],
      "metadata": {
        "id": "n6jbpx-wDJ0U"
      }
    },
    {
      "cell_type": "code",
      "source": [
        "#Example sodoku puzzle, n^2xn^2:\n",
        "\n",
        "#This works for oracle_2, not oracle_1\n",
        "n = 2\n",
        "A = np.array([2, 0, 3, 1, 1, '*', '*', 0, 0, '*', '*', '*', 3, '*', '*', 2])\n",
        "A = A.reshape(4, 4)\n",
        "\n",
        "A\n",
        "\n",
        "\n",
        "#This works for both oracle_1 and oracle_2\n",
        "n = 2\n",
        "A = np.array([2, 0, 3, 1, 1, 3, 2, '*', 0, 2, 1, 3, '*', 1, 0, 2])\n",
        "A = A.reshape(4, 4)\n",
        "\n",
        "A"
      ],
      "metadata": {
        "colab": {
          "base_uri": "https://localhost:8080/"
        },
        "id": "xeP2orPADcIf",
        "outputId": "f2ecbd0a-d3b9-4247-f53f-c046286f710f"
      },
      "execution_count": 65,
      "outputs": [
        {
          "output_type": "execute_result",
          "data": {
            "text/plain": [
              "array([['2', '0', '3', '1'],\n",
              "       ['1', '3', '2', '*'],\n",
              "       ['0', '2', '1', '3'],\n",
              "       ['*', '1', '0', '2']], dtype='<U21')"
            ]
          },
          "metadata": {},
          "execution_count": 65
        }
      ]
    },
    {
      "cell_type": "markdown",
      "source": [
        "### Extract data from the puzzle to be used in both processes"
      ],
      "metadata": {
        "id": "LinJfEOQHg9V"
      }
    },
    {
      "cell_type": "code",
      "source": [
        "#Data for both oracles\n",
        "\n",
        "#Record where the blanks are\n",
        "location_b = []\n",
        "for i in range(len(A)):\n",
        "  for j in range(len(A)):\n",
        "    if A[i][j] == '*':\n",
        "      location_b.append([i, j])\n",
        "\n",
        "#Count the number of blank spaces\n",
        "sp = len(location_b)\n",
        "print(f\"Number of unknowns {sp}\")"
      ],
      "metadata": {
        "id": "n7juExNmGZVY",
        "colab": {
          "base_uri": "https://localhost:8080/"
        },
        "outputId": "b09c8ef2-0713-4a1a-8763-f8619be39470"
      },
      "execution_count": 66,
      "outputs": [
        {
          "output_type": "stream",
          "name": "stdout",
          "text": [
            "Number of unknowns 2\n"
          ]
        }
      ]
    },
    {
      "cell_type": "markdown",
      "source": [
        "### Calculate the optimal number of iterations and success probability"
      ],
      "metadata": {
        "id": "QkggI_O6BR21"
      }
    },
    {
      "cell_type": "code",
      "source": [
        "#Calculating the number of iterations for Grover's algorithm\n",
        "\n",
        "#Arguments:\n",
        "#sp : found above, it is the number of empty cells.\n",
        "#number_of_values : is the number of possible values for each cell, in 4X4 sudoku this number is 4 in 9x9 is 9.\n",
        "\n",
        "number_of_values=4\n",
        "\n",
        "def grover_iterations(sp,number_of_values):\n",
        "  # Search space size\n",
        "\n",
        "  N = number_of_values ** sp\n",
        "\n",
        "  #Optimal number of iterations:\n",
        "  optimal= np.pi * np.sqrt(N) / 4\n",
        "  iterations = int(np.floor(optimal))\n",
        "\n",
        "  #Success Probability\n",
        "\n",
        "  theta = (2* iterations +1)* np.arcsin(1/np.sqrt(N))\n",
        "  success_prob=np.sin(theta)**2\n",
        "\n",
        "  print(f\"Number of Iterations:{iterations}\")\n",
        "  return iterations\n",
        "\n",
        "  #Example\n",
        "iterations = grover_iterations(sp,number_of_values)"
      ],
      "metadata": {
        "colab": {
          "base_uri": "https://localhost:8080/"
        },
        "id": "CZTz3193Bsg9",
        "outputId": "fce104b9-3af2-4097-a144-c63b34a59372"
      },
      "execution_count": 67,
      "outputs": [
        {
          "output_type": "stream",
          "name": "stdout",
          "text": [
            "Number of Iterations:3\n"
          ]
        }
      ]
    },
    {
      "cell_type": "markdown",
      "source": [
        "## Diffuser\n",
        "\n",
        "Below the diffuser is built based on the number of qubits it needs to run on, as for both oracles, the diffuser should only be appended to the part of the circuit which holds the data for the empty cells (this will be blanks for both circuits).\n",
        "\n",
        "Purpose: The diffuser is applied after the oracle, and takes the state marked by the oracle and increases its probability by reflecting values over the mean (since the marked state will be 'negative', the diffuser's reflection makes its probability larger after application)\n",
        "\n",
        "Parameters: num_q is the number of qubits on which the diffuser should be applied (for both oracles, this should be 2*sp)\n",
        "\n",
        "Output: A gate which can be appended to a circuit and which applies the operations of the diffuser\n",
        "\n",
        "Method: First, a circuit of size num_q is created (this is the diffuser circuit and will be what we apply operations to).  Next, we know that the diffuser on num_q qubits is represented by $D = 2|s> <s| - I$, where $|s>$ is the equally distributed state of numq qubits.\n",
        "\n",
        "Since $H^{\\otimes {numq}}|s> = |0>$, then $H^{\\otimes {numq}}DH^{\\otimes {numq}} = H^{\\otimes {numq}} (2|s> <s| - I) H^{\\otimes {numq}} = 2|0><0| - I = X^{\\otimes {numq}}C_{numq-1}ZX^{\\otimes {numq}}$\n",
        "\n",
        "Since $H^{\\otimes {numq}}$ is its own inverse, $D = H^{\\otimes {numq}}X^{\\otimes {numq}}C_{numq-1}ZX^{\\otimes {numq}}H^{\\otimes {numq}}$\n",
        "\n",
        "Thus we can build the diffuser on num_q qubits by applying a Hadamard gate to all of the qubits in the diffuser circuit, applying an x gate to all of the qubits in the circuit, then implementing a multicontrolled z gate by applying a Hadamard gate to all but one of the diffuser circuit qubits, applying a multicontrolled x gate for which the first num_q -1 qubits are the control and the last qubit is the target, then appling a Haramard gate to the first num_q -1 qubits again (since Z = HXH).  Then the x gate and the Haramard gate are applied again to finish the equation."
      ],
      "metadata": {
        "id": "uKnkBuEfJNFy"
      }
    },
    {
      "cell_type": "code",
      "source": [
        "def diffuser(num_q):\n",
        "  quantum_register = QuantumRegister(size = num_q, name = \"s\")\n",
        "  diffuser_circuit = QuantumCircuit(quantum_register, name = \"diffuser\")\n",
        "\n",
        "  diffuser_circuit.h(quantum_register)\n",
        "  diffuser_circuit.x(quantum_register)\n",
        "\n",
        "  #Multicontrolled z-gate\n",
        "  diffuser_circuit.h(num_q-1)\n",
        "  diffuser_circuit.mcx(list(range(num_q-1)), num_q-1)\n",
        "  diffuser_circuit.h(num_q-1)\n",
        "\n",
        "  diffuser_circuit.x(quantum_register)\n",
        "  diffuser_circuit.h(quantum_register)\n",
        "\n",
        "  D = diffuser_circuit.to_gate()\n",
        "\n",
        "  return D"
      ],
      "metadata": {
        "id": "1nhgogArU9u-"
      },
      "execution_count": 68,
      "outputs": []
    },
    {
      "cell_type": "markdown",
      "source": [
        "## Oracle 1\n",
        "Oracle 1 is applied to a circuit with one quantum register of size 2*(number of empty cells) where two subesquent cells which begin on an even number represent a number 0-3 represented by 2 bits, one ancilla register which is the size of the number of conditions where each conditions is a list of size 2 which either contains the indices of two empty cells (in the list of empty cells) which cannot have the same number or the index of an empty cell and a number 0-3 for which the cell cannot contain that number, one ancilla register of size 2 used for computations, and one ancilla register of size 1 used to mark when the desired solution has been found.\n",
        "\n",
        "There are several functions which are utilized in this code:\n",
        "\n",
        "###build_constraint_list:\n",
        "\n",
        "Purpose: Build a list of constraints in the given puzzle by ensuring that no two cells are the same in each row, column, and block.\n",
        "\n",
        "Parameters: A is an n^2 by n^2 sudoku puzzle entered as an n^2 by n^2 np array where blank cells are represented by '*'\n",
        "\n",
        "Output: Returns a list of restraints where each element is a list of size two in which the first element is 2x(index of the empty cell in the list location_b) and the second element is either a string which represents a number which cannot be in the empty cell represented by the first element, or is 2x(index of the empty cell in the list location_b) for a cell index not equal to the one in the first element.\n",
        "\n",
        "Method: Uses loops and or statements to check all of the possible combinations in each row, column, and block.  Is optimized as the last lines remove duplicate conditions and ensure we never check the condition $[2*i, 2*i]$ for any i an index of location_b.\n",
        "\n",
        "###classical_or:\n",
        "\n",
        "Purpose: Create a function that takes two qubits in the system and checks if either of them are a 1.\n",
        "\n",
        "Parameters: circuit is the circuit on which we wish to perform operations, a and b are two indices of the quibits in the system we want to compare, c is the index of the qubit in the system to which we want to map 0 if neither a or b holds a 1 and 1 if a or b holds a 1 (c must hold a 0 originally for this function to work)\n",
        "\n",
        "Output: No output, but alters the given circuit to contain a 0 at c if a and b both hold a 0 and 1 at c if a or b (or both) hold a 1.\n",
        "\n",
        "Method: Utilizes DeMorgan's Law (a OR b = NOT(NOT a AND NOT b)) with x gates and a Toffoli gate: negates a and b by applying an x gate at both of these locations, then performs the AND operation on NOT a and NOT b by applying a Toffoli gate for which a and b are the controls and c is the target, then negates (NOT a AND NOT b) by applying an x gate to c.  Finally, applies x gates to a and b to return their original values.\n",
        "\n",
        "###different:\n",
        "\n",
        "Purpose: Given a condition with two index values, compares both bits to determine if the qubits representing those numbers are different\n",
        "\n",
        "Parameters: circuit is the circuit on which we wish to perform operations, a and b represent the first empty cell (b = a + 1), c and d represent the second empty cell (d = c + 1), e and f are indices in which to perform intermediate operations (both must originally be 0), g is the index in which we will map the result (must be 0 originally)\n",
        "\n",
        "Output: No output, but alters the given circuit to hold a 0 in g if the cells represented by (a, b) and (c, d) are the same and 1 if they are different.\n",
        "\n",
        "Method: Applies CNOT for which a is the control and e is the target then CNOT for which c is the control and e is the target.  Then applies CNOT for which b is the control and f is the target then CNOT for which d is the control and f is the target.  This gives the result if the value in a equals that in c, then e now contains 0 and if the value in a is not equal to the value in c, then e now contains 1 (and likewise for b, d, and f). Then if either e or f (or both) holds a 1, the cells represented by (a, b) and (c, d) must be different.  Then the classical_or is applied, taking the indices (e, f, g), and returning 1 in g if at least one of e and f hold the value 1 and 0 otherwise.  Finally, the operations are applied a second time to return e and f to their original value of 0.\n",
        "\n",
        "###oracle_1\n",
        "\n",
        "*oracle_1 only works for a 4x4 puzzle*\n",
        "\n",
        "Purpose: Develop the oracle function which marks a state which satisfies all of the condtions\n",
        "\n",
        "Parameters: circuit is the circuit on which we want to apply the oracle, conditions is the list of conditions we need to satisfy (must be of the form of the output of the functions build_constraint_list)\n",
        "\n",
        "Output: No output, but alters the given circuit to mark the state which satisfies all of the conditions\n",
        "\n",
        "Method: Looks at all of the conditions in given conditions list via a for loop.  If the ith condition is of the form [index, np.string('number')] then it compares the values in the two qubits that represent that cell to the two bit binary representation of the number.  This is completed by negating the bit that would represent a '0' in the binary representaion of the number using an x gate on those indices, applying a Toffoli gate for which the controls are the two qubits representing the cell and the target is the qubit which represents the ith condition, and then applying an x gate to the qubit which represents the ith condition so that it contains a 1 if the two qubits representing the cell are different from the binary representation or the numbers and 0 otherwise. (Example: if the condition is [0, np.string('1')], then the binary representation of 1 is 10, so then blanks[0] remains unchanged to test if there is a 1 there, an x gate is applied to blanks[1] so if there is a 0 there, it will be changed to a 1, then the Toffoli gate is applied to (blanks[0], blanks[1], cond[i]) so that cond[i] becomes a 1 only if blanks[0] = blanks[1] = 1, or if blanks[0], blanks[1] originally held 1, 0.  Then an x gate is applied to cond[i] so that cond[i] holds 1 only if blanks[0], blanks[1] originally did not hold 1, 0).  If the ith condition is of the form [index1, index2], then different is run on (blanks[index1], blanks[index1 + 1], blanks[index2], blanks[index2 + 1], bit_cal[0], bit_cal[1], cond[i]), and changes cond[i] to 1 only if the values at (blanks[index1], blanks[index1 + 1]) and (blanks[index2], blanks[index2 + 1]) are different.  Then a multicontrolled z gate (in the form H(multicontrolled x)H) is run on all of the cond qubits, marking an by flipping the sign of the |1> in an only if all the cond qubits are 1.  Then all operations are run a second time to return ancilla registers to their original values.\n",
        "\n",
        "###solving_sudoku\n",
        "\n",
        "Purpose: Find a solution for a 4×4 Sudoku by applying t Grover iterations (as given by iterations) and performing measurements. It also includes the option to impose a maximum number of iterations if the problem would otherwise require too many.\n",
        "\n",
        "Parameters: The  parameter sp is the number of empty cells, num_q is the number of qubits involved in the Grover's code, number_of_values is the number of values that the cell can take in this case 4, max_iterations is one integer representing a maximum number of iterations to be computed.\n",
        "\n",
        "Output: Solution, contains a solution for the problem writen as a list of 2 digit binary numbers. It also outputs the Success probability the empirical probability of obtaining such a solution.\n",
        "\n",
        "Method: It creates the gates for the oracle and diffuser .Initialize the “an” qubit in |–⟩ for phase kickback and the blank qubits in uniform superposition.\n",
        "Apply t alternating oracle and diffuser operations (t = min(iterations, max_iterations)). Measure the blank qubits.\n",
        "Repeat steps this steps for 1024 shots (as it is the convention). Select as the solution the bitstring observed most frequently and report its relative frequency and empirical probability.\n",
        "\n",
        "###decode_solution\n",
        "\n",
        "Purpose: Take the given solution and fill in the blank cells of the sudoku with the solution\n",
        "\n",
        "Parameters: solution is a binary string with the solutions (this string gives the solution in backwards order), location_b is the locations of the empty cells in the puzzle, A is the original puzzle\n",
        "\n",
        "Output: final_solution is a completly filled sudoku puzzle with the blank values replaced with the correct numerical values\n",
        "\n",
        "Method: Extracts the values from the string and uses their binary representation to fill the correct value.  Then puts the values into their correct cell of the given puzzle"
      ],
      "metadata": {
        "id": "KB_M9n9gDmjX"
      }
    },
    {
      "cell_type": "markdown",
      "source": [
        "### Extract constraints\n",
        "In this case, a constraint is an ordered pair of the form [i, j] for i and j indices of blank cells which must differ or [i, np.str_('l')] for i an empty cell which must contain a different number from l"
      ],
      "metadata": {
        "id": "nZcE73jbKehg"
      }
    },
    {
      "cell_type": "code",
      "source": [
        "#build_constraint_list takes a 4x4 np matrix with blank values represented by\n",
        "#'*' and numbers 0-3 represented by their two bit binary representation.  It\n",
        "#outputs a list of constraints (with no repeated constaints) in order for the\n",
        "#puzzle to be valid\n",
        "#Parameters: A is a 4x4 np.matrix filled with strings\n",
        "\n",
        "def build_constraint_list(A):\n",
        "  #Find constaints for each blank, there should be 3(n^2 -1) per blank\n",
        "  conditions = []\n",
        "\n",
        "  for i in range(len(location_b)):\n",
        "    row = location_b[i][0]\n",
        "    column = location_b[i][1]\n",
        "    #Calculuate row restraints\n",
        "    for j in range(n**2):\n",
        "      if j != column:\n",
        "        if A[row][j] == '*':\n",
        "          conditions.append([2*i, 2*location_b.index([row, j]) ])\n",
        "        else:\n",
        "          conditions.append([2*i, A[row][j]])\n",
        "    #Calculuate column restraints\n",
        "    for j in range(n**2):\n",
        "      if j != row:\n",
        "        if A[j][column] == '*':\n",
        "          conditions.append([2*i, 2*location_b.index([j, column]) ])\n",
        "        else:\n",
        "          conditions.append([2*i, A[j][column]])\n",
        "    #Calculuate box restraints\n",
        "    if row < n:\n",
        "      if column < n:\n",
        "        for j in range(n):\n",
        "          for k in range(n):\n",
        "            if A[j][k] == '*':\n",
        "              conditions.append([2*i, 2*location_b.index([j, k]) ])\n",
        "            else:\n",
        "              conditions.append([2*i, A[j][k]])\n",
        "      elif column >= n:\n",
        "        for j in range(n):\n",
        "          for k in range(n):\n",
        "            if A[j][k + n] == '*':\n",
        "              conditions.append([2*i, 2*location_b.index([j, k+n]) ])\n",
        "            else:\n",
        "              conditions.append([2*i, A[j][k+n]])\n",
        "    elif row >= n:\n",
        "      if column < n:\n",
        "        for j in range(n):\n",
        "          for k in range(n):\n",
        "            if A[j + n][k] == '*':\n",
        "              conditions.append([2*i, 2*location_b.index([j + n, k]) ])\n",
        "            else:\n",
        "              conditions.append([2*i, A[j + n][k]])\n",
        "      elif column >= n:\n",
        "        for j in range(n):\n",
        "          for k in range(n):\n",
        "            if A[j + n][k + n] == '*':\n",
        "              conditions.append([2*i, 2*location_b.index([j + n, k+n]) ])\n",
        "            else:\n",
        "              conditions.append([2*i, A[j + n][k+n]])\n",
        "\n",
        "\n",
        "  #Remove duplicate entries\n",
        "  temp = []\n",
        "  for i in range(len(conditions)):\n",
        "    if conditions[i] not in temp and conditions[i][0] != conditions[i][1]:\n",
        "      temp.append(conditions[i])\n",
        "\n",
        "\n",
        "\n",
        "  conditions = temp\n",
        "\n",
        "  return conditions\n",
        "\n",
        "\n"
      ],
      "metadata": {
        "id": "rOyHFA072-EH"
      },
      "execution_count": 69,
      "outputs": []
    },
    {
      "cell_type": "code",
      "source": [
        "#View constraint list\n",
        "build_constraint_list(A)"
      ],
      "metadata": {
        "colab": {
          "base_uri": "https://localhost:8080/"
        },
        "collapsed": true,
        "id": "QYMR7n416kVl",
        "outputId": "5a0f93b1-61f5-47d1-8ad1-d9a521ca2c43"
      },
      "execution_count": 70,
      "outputs": [
        {
          "output_type": "execute_result",
          "data": {
            "text/plain": [
              "[[0, np.str_('1')],\n",
              " [0, np.str_('3')],\n",
              " [0, np.str_('2')],\n",
              " [2, np.str_('1')],\n",
              " [2, np.str_('0')],\n",
              " [2, np.str_('2')]]"
            ]
          },
          "metadata": {},
          "execution_count": 70
        }
      ]
    },
    {
      "cell_type": "markdown",
      "source": [
        "### Build circuit for oracle_1\n",
        "\n",
        "*Just for viewing circuit diagram, another circuit will be built and intialized to actually run the algorithm*"
      ],
      "metadata": {
        "id": "DrUjNni9LneG"
      }
    },
    {
      "cell_type": "code",
      "source": [
        "#Set up quantum circuit for viewing circuit diagram of oracle_1\n",
        "\n",
        "conditions = build_constraint_list(A)\n",
        "\n",
        "#Create a quantum register with 2*sp spaces\n",
        "blanks = QuantumRegister(size = 2 * sp, name = 'e')\n",
        "\n",
        "#Create a quantum register with the values 0, 1, 2, 3\n",
        "#qubit_val = AncillaRegister(size = 8, name = 'q') #Initialize to 00011011\n",
        "\n",
        "#Create ancilla register for computing if two bits are equal\n",
        "bit_cal = AncillaRegister(size = 2, name = 'b')\n",
        "\n",
        "#Create ancilla register for each of the conditions needed to be checked on\n",
        "#each blank space\n",
        "cond = AncillaRegister(size = len(conditions), name = 'c')\n",
        "\n",
        "#Create ancilla which tests if all conditions have been met\n",
        "an = AncillaRegister(size = 1, name = 'a')\n",
        "\n",
        "circuit_1 = QuantumCircuit(blanks, bit_cal, cond, an)"
      ],
      "metadata": {
        "id": "0KZxDc9gyHVu"
      },
      "execution_count": 71,
      "outputs": []
    },
    {
      "cell_type": "markdown",
      "source": [
        "### Build the oracle"
      ],
      "metadata": {
        "id": "0GH0Kyp3L0LZ"
      }
    },
    {
      "cell_type": "code",
      "source": [
        "#classical_or takes two values in a quantum circuit and outputs their classical\n",
        "#or value into a third variable utilizing X gates and a Toffoli gate\n",
        "#Utilizes DeMorgan's Law NOT(NOT x_1 AND NOT x_2) = x_1 OR x_2\n",
        "\n",
        "#Parameters: circuit is a quantum circuit, a and b are two variables in the\n",
        "#given circuit, c is the output variable and must be initially 0\n",
        "def classical_or(circuit, a, b, c):\n",
        "  circuit.x(a)\n",
        "  circuit.x(b)\n",
        "  circuit.ccx(a, b, c)\n",
        "  circuit.x(c)\n",
        "\n",
        "  #Return a and b to original values\n",
        "  circuit.x(a)\n",
        "  circuit.x(b)"
      ],
      "metadata": {
        "id": "7wGMEoUOfm6O"
      },
      "execution_count": 72,
      "outputs": []
    },
    {
      "cell_type": "code",
      "source": [
        "#different determines if two 2-bit values which represent two squares of the\n",
        "#puzzle are different or not and maps the resulting value into that of a\n",
        "#condition\n",
        "\n",
        "#Parameters: circuit is a quantum circuit, a and b are indices of squares on the\n",
        "#board, c is the condition index and must originally be set to 0\n",
        "\n",
        "#Output: Switches comp_list[c] to 0 if same, 1 if different\n",
        "def different(circuit, a, b, c, d, e, f, g):\n",
        "  #Compare first bit\n",
        "  circuit.cx(a, e)\n",
        "  circuit.cx(c, e)\n",
        "\n",
        "  #Compare second bit\n",
        "  circuit.cx(b, f)\n",
        "  circuit.cx(d, f)\n",
        "\n",
        "  #Classical or gives 1 if differ on at least one bit, 0 if same on both bits\n",
        "  classical_or(circuit, e, f, g)\n",
        "\n",
        "  #Reset e and f to original by redoing unitary\n",
        "  #Compare first bit\n",
        "  circuit.cx(a, e)\n",
        "  circuit.cx(c, e)\n",
        "\n",
        "  #Compare second bit\n",
        "  circuit.cx(b, f)\n",
        "  circuit.cx(d, f)"
      ],
      "metadata": {
        "id": "F0YEMYmHFOAZ"
      },
      "execution_count": 73,
      "outputs": []
    },
    {
      "cell_type": "code",
      "source": [
        "#Oracle 1\n",
        "def oracle_1(circuit, conditons):\n",
        "  #Fill in all conditions with 1 if satisfied, 0 if not\n",
        "  for i in range(len(conditions)):\n",
        "    if conditions[i][1] == np.str_('0'):\n",
        "      circuit.x(blanks[conditions[i][0]])\n",
        "      circuit.x(blanks[conditions[i][0] + 1])\n",
        "      #If 0, now both bits 1 now, so Toffoli gate flips condition bit to 1, x flips to desired value\n",
        "      circuit.ccx(blanks[conditions[i][0]], blanks[conditions[i][0] + 1], cond[i])\n",
        "      circuit.x(cond[i])\n",
        "      #Return to original value\n",
        "      circuit.x(blanks[conditions[i][0]])\n",
        "      circuit.x(blanks[conditions[i][0] + 1])\n",
        "    elif conditions[i][1] == np.str_('1'):\n",
        "      circuit.x(blanks[conditions[i][0] + 1])\n",
        "      #If 0, now both bits 1 now, so Toffoli gate flips condition bit to 1, x flips to desired value\n",
        "      circuit.ccx(blanks[conditions[i][0]], blanks[conditions[i][0] + 1], cond[i])\n",
        "      circuit.x(cond[i])\n",
        "      #Return to original value\n",
        "      circuit.x(blanks[conditions[i][0] + 1])\n",
        "    elif conditions[i][1] == np.str_('2'):\n",
        "      circuit.x(blanks[conditions[i][0]])\n",
        "      #If 0, now both bits 1 now, so Toffoli gate flips condition bit to 1, x flips to desired value\n",
        "      circuit.ccx(blanks[conditions[i][0]], blanks[conditions[i][0] + 1], cond[i])\n",
        "      circuit.x(cond[i])\n",
        "      #Return to original value\n",
        "      circuit.x(blanks[conditions[i][0]])\n",
        "    elif conditions[i][1] == np.str_('3'):\n",
        "      #If 0, now both bits 1 now, so Toffoli gate flips condition bit to 1, x flips to desired value\n",
        "      circuit.ccx(blanks[conditions[i][0]], blanks[conditions[i][0] + 1], cond[i])\n",
        "      circuit.x(cond[i])\n",
        "    else:\n",
        "      different(circuit, blanks[conditions[i][0]], blanks[conditions[i][0] + 1], blanks[conditions[i][1]], blanks[conditions[i][1] + 1], bit_cal[0], bit_cal[1], cond[i])\n",
        "\n",
        "  #Check if all conditions are met by applying multicontrolled z gate, built from H(mcx)H since Z = HXH\n",
        "  circuit.h(an)\n",
        "  circuit.mcx(cond, an)\n",
        "  circuit.h(an)\n",
        "\n",
        "  #Reset all of the registers by applying computations again\n",
        "  for i in range(len(conditions)):\n",
        "    if conditions[i][1] == np.str_('0'):\n",
        "      circuit.x(blanks[conditions[i][0]])\n",
        "      circuit.x(blanks[conditions[i][0] + 1])\n",
        "      #If 0, now both bits 1 now, so Toffoli gate flips condition bit to 1, x flips to desired value\n",
        "      circuit.ccx(blanks[conditions[i][0]], blanks[conditions[i][0] + 1], cond[i])\n",
        "      circuit.x(cond[i])\n",
        "      #Return to original value\n",
        "      circuit.x(blanks[conditions[i][0]])\n",
        "      circuit.x(blanks[conditions[i][0] + 1])\n",
        "    elif conditions[i][1] == np.str_('1'):\n",
        "      circuit.x(blanks[conditions[i][0] + 1])\n",
        "      #If 0, now both bits 1 now, so Toffoli gate flips condition bit to 1, x flips to desired value\n",
        "      circuit.ccx(blanks[conditions[i][0]], blanks[conditions[i][0] + 1], cond[i])\n",
        "      circuit.x(cond[i])\n",
        "      #Return to original value\n",
        "      circuit.x(blanks[conditions[i][0] + 1])\n",
        "    elif conditions[i][1] == np.str_('2'):\n",
        "      circuit.x(blanks[conditions[i][0]])\n",
        "      #If 0, now both bits 1 now, so Toffoli gate flips condition bit to 1, x flips to desired value\n",
        "      circuit.ccx(blanks[conditions[i][0]], blanks[conditions[i][0] + 1], cond[i])\n",
        "      circuit.x(cond[i])\n",
        "      #Return to original value\n",
        "      circuit.x(blanks[conditions[i][0]])\n",
        "    elif conditions[i][1] == np.str_('3'):\n",
        "      #If 0, now both bits 1 now, so Toffoli gate flips condition bit to 1, x flips to desired value\n",
        "      circuit.ccx(blanks[conditions[i][0]], blanks[conditions[i][0] + 1], cond[i])\n",
        "      circuit.x(cond[i])\n",
        "    else:\n",
        "      different(circuit, blanks[conditions[i][0]], blanks[conditions[i][0] + 1], blanks[conditions[i][1]], blanks[conditions[i][1] + 1], bit_cal[0], bit_cal[1], cond[i])\n",
        "\n",
        "\n"
      ],
      "metadata": {
        "collapsed": true,
        "id": "7_m-uvBrI_dD"
      },
      "execution_count": 74,
      "outputs": []
    },
    {
      "cell_type": "code",
      "source": [
        "#Run to view circuit diagram\n",
        "oracle_1(circuit_1, conditions)\n",
        "circuit_1.draw(output=\"mpl\", style=\"bw\")"
      ],
      "metadata": {
        "colab": {
          "base_uri": "https://localhost:8080/",
          "height": 765
        },
        "collapsed": true,
        "id": "YTI-1LBd7SoV",
        "outputId": "c74fad6c-d5de-4c96-eebf-8cd50ae76d69"
      },
      "execution_count": 75,
      "outputs": [
        {
          "output_type": "execute_result",
          "data": {
            "text/plain": [
              "<Figure size 2126.94x1120.39 with 1 Axes>"
            ],
            "image/png": "[encoded data removed]"
          },
          "metadata": {},
          "execution_count": 75
        }
      ]
    },
    {
      "cell_type": "markdown",
      "source": [
        "### Apply Grover's Algorithm"
      ],
      "metadata": {
        "id": "y1WCy8KBNbOw"
      }
    },
    {
      "cell_type": "code",
      "source": [
        "# Using:\n",
        "# - sp : Number of empty cells\n",
        "# - number_of_values : Number of options for a generic cell (Example: 4 in 4x4)\n",
        "# - iterations : Optimal number of iterations\n",
        "# - max_iterations : Maximum allowed number of iterations (may be kept blank)\n",
        "# - circuit_1 : Grover's circuit (Oracle+Diffuser)\n",
        "\n",
        "# Algorithm with t iterations\n",
        "max_iterations = 101\n",
        "\n",
        "# Calculate the total number of qubits\n",
        "num_q = 2 * sp + 2 + len(conditions) + 1\n",
        "\n",
        "def solving_sudoku(sp, num_q, number_of_values, max_iterations):\n",
        "\n",
        "  cq = QuantumCircuit(num_q)\n",
        "\n",
        "  #Allows a limit in the number of iterations smaller than the optimal.\n",
        "  if max_iterations is not None and max_iterations < iterations:\n",
        "      t = max_iterations\n",
        "      print(f\"Using {t} iterations (reduced from optimal number of iterations {iterations})\")\n",
        "  else:\n",
        "      t = iterations\n",
        "\n",
        "  #Create oracle and diffuser gates\n",
        "\n",
        "  # The oracle_2 function modifies the circuit in place, so we need to apply it to a temporary circuit to get the gate\n",
        "  # Create a temporary circuit for building the oracle gate\n",
        "  # This temporary circuit should only contain the operations that make up the oracle\n",
        "  # Recreate the QuantumRegister and AncillaRegister objects with the correct sizes and names\n",
        "  # so that oracle_2 can be called correctly on temp_oracle_circuit\n",
        "  blanks_temp = QuantumRegister(size = 2 * sp, name = 'e')\n",
        "  bit_cal_temp = AncillaRegister(size = 2, name = 'b')\n",
        "  cond_temp = AncillaRegister(size = len(cond), name = 'c')\n",
        "  an_temp = AncillaRegister(size = 1, name = 'a')\n",
        "\n",
        "  temp_oracle_circuit = QuantumCircuit()\n",
        "\n",
        "  temp_oracle_circuit.add_register(blanks_temp)\n",
        "  temp_oracle_circuit.add_register(bit_cal_temp)\n",
        "  temp_oracle_circuit.add_register(cond_temp)\n",
        "  temp_oracle_circuit.add_register(an_temp)\n",
        "\n",
        "\n",
        "  # The oracle_2 function modifies the circuit in place, populate the temp circuit with oracle operations\n",
        "  # Pass the temporary registers to the oracle_2 function\n",
        "  oracle_1(temp_oracle_circuit, conditions)\n",
        "\n",
        "  # Now, convert the temporary circuit (which only contains gate operations) to a gate\n",
        "  oracle_gate = temp_oracle_circuit.to_gate(label=\"Oracle 1\")\n",
        "\n",
        "  # The diffuser function directly returns a gate\n",
        "  diffuser_gate = diffuser(2 * sp)\n",
        "\n",
        "  # Initialize the 'an' qubit in state |-> for the phase kickback\n",
        "  cq.initialize([1, -1]/np.sqrt(2), num_q - 1)\n",
        "\n",
        "  # Initialize the blank qubits to a uniform superposition\n",
        "  cq.h(range(2 * sp))\n",
        "\n",
        "  # Apply the iterations\n",
        "  print(f\"Running {t}-many Grover iterations\")\n",
        "  for i in range(t):\n",
        "    if i % 10 == 0:\n",
        "      print(f\"Iteration {i}/{t}\")\n",
        "\n",
        "    cq.append(oracle_gate, range(num_q))\n",
        "    cq.append(diffuser_gate, range(2 * sp))\n",
        "\n",
        "  # Obtain the statevector\n",
        "  statevector = Statevector(cq)\n",
        "\n",
        "  # Get the probabilities\n",
        "  prob = statevector.probabilities()\n",
        "\n",
        "  # Find the index of the maximum probability\n",
        "  most_probable_index = prob.argmax()\n",
        "\n",
        "  # Convert the index to the corresponding binary string\n",
        "  num_qubits = cq.num_qubits\n",
        "  most_probable_state = format(most_probable_index, f'0{num_qubits}b')\n",
        "  most_probable_state = most_probable_state[len(most_probable_state) - 2*sp:]\n",
        "\n",
        "  print(\"Probabilities:\", prob)\n",
        "  print(\"Solution:\", most_probable_state)\n",
        "  print(\"Success probability:\", prob[most_probable_index])\n",
        "  return most_probable_state\n",
        "\n",
        "#RUN\n",
        "\n",
        "solution = solving_sudoku(sp, num_q, number_of_values, max_iterations)"
      ],
      "metadata": {
        "colab": {
          "base_uri": "https://localhost:8080/"
        },
        "id": "6wS79ZwYXksR",
        "outputId": "403763ff-f90e-4cc8-a3dd-c8c58c7761dd"
      },
      "execution_count": 76,
      "outputs": [
        {
          "output_type": "stream",
          "name": "stdout",
          "text": [
            "Running 3-many Grover iterations\n",
            "Iteration 0/3\n",
            "Probabilities: [0.03125 0.03125 0.03125 ... 0.      0.      0.     ]\n",
            "Solution: 1100\n",
            "Success probability: 0.48065948486326143\n"
          ]
        }
      ]
    },
    {
      "cell_type": "code",
      "source": [
        "#Decode solution and produce solved puzzle\n",
        "def decode_solution(solution, location_b, A):\n",
        "  final_solution = A\n",
        "  for i in range(len(location_b)):\n",
        "    bits1, bits2 = solution[2*i], solution[2*i + 1]\n",
        "    bits1 = int(bits1)\n",
        "    bits2 = int(bits2)\n",
        "    value = 2*(bits1) + bits2\n",
        "    location = location_b[len(location_b)-i-1]\n",
        "    final_solution[location[0]][location[1]] = value\n",
        "  return final_solution\n",
        "\n",
        "decode_solution(solution, location_b, A)"
      ],
      "metadata": {
        "colab": {
          "base_uri": "https://localhost:8080/"
        },
        "id": "htKqIF6hz3E7",
        "outputId": "fc3fdd71-d93c-4cb9-e939-8c4a72e5e75d"
      },
      "execution_count": 77,
      "outputs": [
        {
          "output_type": "execute_result",
          "data": {
            "text/plain": [
              "array([['2', '0', '3', '1'],\n",
              "       ['1', '3', '2', '0'],\n",
              "       ['0', '2', '1', '3'],\n",
              "       ['3', '1', '0', '2']], dtype='<U21')"
            ]
          },
          "metadata": {},
          "execution_count": 77
        }
      ]
    },
    {
      "cell_type": "code",
      "source": [
        "#Reset A\n",
        "A = np.array([2, 0, 3, 1, 1, 3, 2, '*', 0, 2, 1, 3, '*', 1, 0, 2])\n",
        "A = A.reshape(4, 4)"
      ],
      "metadata": {
        "id": "4-KGHo3xV4VK"
      },
      "execution_count": 78,
      "outputs": []
    },
    {
      "cell_type": "markdown",
      "source": [
        "## Oracle 2\n",
        "Oracle 2 only checks rows and columns (since checking blocks creates too many registers and so it cannot be tested with given RAM).  It uses a circuit with one quantum register of size 2*(number of empty sodoku cells), one ancillia register of size 4 for single gate operations, one ancillia register of size 8 which marks 1 if that row/column condition is satisfied and 0 if not, and one ancillia register of size one which switches sign of |1> if all conditions are satisfied.\n",
        "\n",
        "The following functions are used to build the algorithm:\n",
        "\n",
        "### get_perm\n",
        "Purpose: Find the possible permutations for the blank cells in each row and column\n",
        "\n",
        "Parameters: A is a 4x4 matrix representing the sudoku puzzle, where blank squares are represented by '*'\n",
        "\n",
        "Output: A list which contains a list of lists of possible permutations for each of the blank spaces in each of the rows and columns of the puzzle.\n",
        "\n",
        "Method: Checks in each row and column which values are already filled, then produces the possible permutations from the leftover values\n",
        "\n",
        "###translate_perm\n",
        "Purpose: Turn the string values from a given permutation into binary values to be used for comparison in the oracle\n",
        "\n",
        "Parameters: permutations is the list of possible permutations, cond_num is the number of the condition we want to check (0, 1, 2, 3 corresponds to the rows, in order, 4, 5, 6, 7 corresponds to the columns, in order)\n",
        "\n",
        "Output: A list of the permutions for cond_num which is encoded in binary array\n",
        "\n",
        "Method: Uses a dictionary to map 'number' to [first bit, second bit]\n",
        "\n",
        "###return_col_indices\n",
        "\n",
        "Purpose: Helper function that given a column number finds the blank spaces in that column\n",
        "\n",
        "Parameters: location_b is the list of all empty spaces, i is the column number to examine\n",
        "\n",
        "Output: Returns a list of positions in the given column where there is a blank space\n",
        "\n",
        "Method: Standard search of location_b for which the second index is equal to the column value\n",
        "\n",
        "###perm_1\n",
        "Purpose: Check if a row or column with only one blank has the correct value in that cell\n",
        "\n",
        "Parameters: circuit is the circuit we wish to alter, element_1_index is 2*(index number of a blank cell from location_b), permutations is the list of possible permutations for the specific row/column, cond_num is the row/col for which we are checking permutations (cond_num must originally hold 0)\n",
        "\n",
        "Output: No output, but modifies the circuit to hold 1 in rcb[cond_num] if the given cell holds the correct value and 0 if not\n",
        "\n",
        "Method: If the number in binary has a 0 in either bit, applies an x gate to the qubit representing that index's bit, then applies a Toffoli gate for which the controls are both bits representing the cell and the target is rcb[cond_num] so that rcb[cond_num] is 1 only if the number represented by two qubits in the position of the element index is the number in the permutation. Then returns everything except rcd[cond_num] to original state by applying operations a second time.\n",
        "\n",
        "###perm_2\n",
        "Purpose: Check if a row or column with two blanks has a valid permutation\n",
        "\n",
        "Parameters: circuit is the circuit we wish to alter, element_1_index is 2x(first index number of a blank cell from location_b), element_2_index is 2x(second index number of a blank cell from location_b), permutations is the list of possible permutations for the specific row/column, cond_num is the row/col for which we are checking permutations (cond_num must originally hold 0)\n",
        "\n",
        "Output: No output, but modifies the circuit to hold 1 in rcb[cond_num] if the given cells hold a correct permutation and 0 if not\n",
        "\n",
        "Method: For each permutation, if the numbers in binary have a 0 in either bit, applies an x gate to the qubit representing that index's bit, then applies a Toffoli gate for which the controls are both bits representing the first cell and the target is bit_cal[0] (so bit_cal[0] is 1 only if the first cell contains the correct value for the permutation), and then applies a Toffoli gate for which the controls are both bits representing the second cell and the target is bit_cal[1] (so bit_cal[1] is 1 only if the first cell contains the correct value for the permutation).  Then applies a Toffoli gate for which the controls are bit_cal[0] and bit_cal[1] and the target is rcb[cond_num] so that rcb[cond_num] is 1 only if the permutation is valid.  Since the blanks can only contain at most one possible valid permutation, running through all the permutations will only flip rcb[cond_num] at most once for a valid permutation.  All operations are then applied again so that all registers are reset to their original values, except for rcb[cond_num].\n",
        "\n",
        "###perm_3\n",
        "Purpose: Check if a row or column with three blanks has a valid permutation\n",
        "\n",
        "Parameters: circuit is the circuit we wish to alter, element_1_index is 2x(first index number of a blank cell from location_b), element_2_index is 2x(second index number of a blank cell from location_b), element_3_index is 2x(second index number of a blank cell from location_b), permutations is the list of possible permutations for the specific row/column, cond_num is the row/col for which we are checking permutations (cond_num must originally hold 0)\n",
        "\n",
        "Output: No output, but modifies the circuit to hold 1 in rcb[cond_num] if the given cells hold a correct permutation and 0 if not\n",
        "\n",
        "Method: For each permutation, if the numbers in binary have a 0 in either bit, applies an x gate to the qubit representing that index's bit, then applies a Toffoli gate for which the controls are both bits representing the first cell and the target is bit_cal[0] (so bit_cal[0] is 1 only if the first cell contains the correct value for the permutation), and then applies a Toffoli gate for which the controls are both bits representing the second cell and the target is bit_cal[1] (so bit_cal[1] is 1 only if the first cell contains the correct value for the permutation), and then applies a Toffoli gate for which the controls are both bits representing the third cell and the target is bit_cal[2] (so bit_cal[2] is 1 only if the first cell contains the correct value for the permutation).  Then a Toffoli gate for which the controls are bit_cal[0] and bit_cal[1] and the target is bit_cal[3] is applied so that bit_cal[3] is 1 only if the first and second cells have valid numbers for the permutation.  Then applies a Toffoli gate for which the controls are bit_cal[2] and bit_cal[3] and the target is rcb[cond_num] so that rcb[cond_num] is 1 only if the permutation is valid for all three cells.  Since the blanks can only contain at most one possible valid permutation, running through all the permutations will only flip rcb[cond_num] at most once for a valid permutation. All operations are then applied again so that all registers are reset to their original values, except for rcb[cond_num].\n",
        "\n",
        "###oracle_2\n",
        "*oracle_2 only works for a 4x4 puzzle*\n",
        "\n",
        "Purpose: Check that all conditions for rows and columns are satisfied, and if they are, mark that state.\n",
        "\n",
        "Parameters: circuit is the circuit we wish to alter, permutations is the list of all permutions for each row/col, location_b is the list of all of the locations for the blanks in the puzzle\n",
        "\n",
        "Output: No output, but alters the given circuit to mark the state which satisfies all of the conditions\n",
        "\n",
        "Method: Iterates through each row and column and checks if the possible permutations are satisfied for each.  Depending on the size of the permutation for each row/col, the functions perm_1, perm_2, or perm_3 are called to check conditions.  Then a multicontrolled z-gate is applied to the conditions, flipping the state of an only if all conditions are satisfied.\n",
        "\n",
        "###solving_sudoku\n",
        "\n",
        "Purpose: Find a solution for a 4×4 Puzzle by applying t Grover iterations (as given by iterations) and performing measurements. It also includes the option to impose a maximum number of iterations if the problem would otherwise require too many.\n",
        "\n",
        "Parameters: The  parameter sp is the number of empty cells, num_q is the number of qubits involved in the Grover's code, number_of_values is the number of values that the cell can take in this case 4, max_iterations is one integer representing a maximum number of iterations to be computed.\n",
        "\n",
        "Output: Solution, contains a solution for the problem writen as a list of 2 digit binary numbers. It also outputs the Success probability the empirical probability of obtaining such a solution.\n",
        "\n",
        "Method: It creates the gates for the oracle and diffuser .Initialize the “an” qubit in |–⟩ for phase kickback and the blank qubits in uniform superposition.\n",
        "Apply t alternating oracle and diffuser operations (t = min(iterations, max_iterations)). Measure the blank qubits.\n",
        "Repeat steps this steps for 1024 shots (as it is the convention). Select as the solution the bitstring observed most frequently and report its relative frequency and empirical probability.\n",
        "\n",
        "###decode_solution\n",
        "\n",
        "Purpose: Take the given solution and fill in the blank cells of the sudoku with the solution\n",
        "\n",
        "Parameters: solution is a binary string with the solutions (this string gives the solution in backwards order), location_b is the locations of the empty cells in the puzzle, A is the original puzzle\n",
        "\n",
        "Output: final_solution is a completly filled sudoku puzzle with the blank values replaced with the correct numerical values\n",
        "\n",
        "Method: Extracts the values from the string and uses their binary representation to fill the correct value.  Then puts the values into their correct cell of the given puzzle\n",
        "\n"
      ],
      "metadata": {
        "id": "KpEUtjdRFd4m"
      }
    },
    {
      "cell_type": "markdown",
      "source": [
        "### Extract the needed data from the puzzle"
      ],
      "metadata": {
        "id": "D5X-dEVoGrB2"
      }
    },
    {
      "cell_type": "code",
      "source": [
        "A"
      ],
      "metadata": {
        "colab": {
          "base_uri": "https://localhost:8080/"
        },
        "id": "VAccxYgUVJRI",
        "outputId": "36f776b6-bebb-4b35-ecaf-b80fbbb3ef39"
      },
      "execution_count": 79,
      "outputs": [
        {
          "output_type": "execute_result",
          "data": {
            "text/plain": [
              "array([['2', '0', '3', '1'],\n",
              "       ['1', '3', '2', '*'],\n",
              "       ['0', '2', '1', '3'],\n",
              "       ['*', '1', '0', '2']], dtype='<U21')"
            ]
          },
          "metadata": {},
          "execution_count": 79
        }
      ]
    },
    {
      "cell_type": "code",
      "source": [
        "#Data for oracle 2\n",
        "def get_perm(A):\n",
        "  permutation = []\n",
        "\n",
        "  #Find the different row permutations\n",
        "  possible_val = ['0', '1', '2', '3']\n",
        "  for i in range(len(A)):\n",
        "    count = 0\n",
        "    for j in range(len(A)):\n",
        "      if [i, j] in location_b:\n",
        "        count = count + 1\n",
        "    if count == 0:\n",
        "      permutation.append([])\n",
        "    else:\n",
        "      temp = []\n",
        "      for val in possible_val:\n",
        "        if val not in A[i]:\n",
        "          temp.append(val)\n",
        "      permutation.append(np.array(list(permutations(temp))))\n",
        "\n",
        "  #Find the different column permutations\n",
        "  for j in range(len(A)):\n",
        "    count = 0\n",
        "    for i in range(len(A)):\n",
        "      if A[i][j] == '*':\n",
        "        count = count + 1\n",
        "    if count == 0:\n",
        "      permutation.append([])\n",
        "    else:\n",
        "      temp = []\n",
        "      for val in possible_val:\n",
        "        if val not in A[:, j]:\n",
        "          temp.append(val)\n",
        "      permutation.append(np.array(list(permutations(temp))))\n",
        "  return permutation"
      ],
      "metadata": {
        "id": "EVe2aDqfG1PQ"
      },
      "execution_count": 80,
      "outputs": []
    },
    {
      "cell_type": "code",
      "source": [
        "#View list of permutations\n",
        "permutation = get_perm(A)\n",
        "permutation"
      ],
      "metadata": {
        "colab": {
          "base_uri": "https://localhost:8080/"
        },
        "id": "tR3TbCBR2IFn",
        "outputId": "11827a2e-7011-442b-babc-64e074037921"
      },
      "execution_count": 81,
      "outputs": [
        {
          "output_type": "execute_result",
          "data": {
            "text/plain": [
              "[[],\n",
              " array([['0']], dtype='<U1'),\n",
              " [],\n",
              " array([['3']], dtype='<U1'),\n",
              " array([['3']], dtype='<U1'),\n",
              " [],\n",
              " [],\n",
              " array([['0']], dtype='<U1')]"
            ]
          },
          "metadata": {},
          "execution_count": 81
        }
      ]
    },
    {
      "cell_type": "code",
      "source": [
        "#Create dictionary to translate permutation data into useable data\n",
        "dictionary = {\n",
        "    '0' : [0, 0],\n",
        "    '1' : [1, 0],\n",
        "    '2' : [0, 1],\n",
        "    '3' : [1, 1]\n",
        "}"
      ],
      "metadata": {
        "id": "s5rCdXoNIHHE"
      },
      "execution_count": 82,
      "outputs": []
    },
    {
      "cell_type": "code",
      "source": [
        "#Function translates permutation data at a condition into useable data for\n",
        "#comparison\n",
        "def translate_perm(permutations, cond_num):\n",
        "  new_list = []\n",
        "  if len(permutations[cond_num]) == 0:\n",
        "    return new_list\n",
        "  for perm in permutations[cond_num]:\n",
        "    temp = []\n",
        "    for i in range(len(perm)):\n",
        "      temp.append(dictionary[perm[i]])\n",
        "    new_list.append(temp)\n",
        "  return new_list"
      ],
      "metadata": {
        "id": "X_oDJZow1W__"
      },
      "execution_count": 83,
      "outputs": []
    },
    {
      "cell_type": "code",
      "source": [
        "def return_col_indices(location_b, i):\n",
        "  empty_in = []\n",
        "  for j in range(n**2):\n",
        "    if [j, i] in location_b:\n",
        "      empty_in.append(location_b.index([j, i]))\n",
        "  return empty_in\n"
      ],
      "metadata": {
        "id": "2iPJhtdaQ6ij"
      },
      "execution_count": 84,
      "outputs": []
    },
    {
      "cell_type": "markdown",
      "source": [
        "### Build the oracle 2 circuit"
      ],
      "metadata": {
        "id": "8AXHf-XRIO0r"
      }
    },
    {
      "cell_type": "code",
      "source": [
        "#Build the circuit for oracle_2 to view circuit diagram\n",
        "\n",
        "#Create a quantum register with 2*sp spaces\n",
        "blanks = QuantumRegister(size = 2 * sp, name = 'e')\n",
        "\n",
        "#Create ancilla register for computing if two bits are equal\n",
        "bit_cal = AncillaRegister(size = 4, name = 'b')\n",
        "\n",
        "#Create ancilla register for each of the conditions needed to be checked on\n",
        "rcb = AncillaRegister(2*(n**2), name = 'r')\n",
        "\n",
        "#Create ancillary which tests if all conditions have been met\n",
        "an = AncillaRegister(size = 1, name = 'a')\n",
        "\n",
        "#Create the circuit with all components\n",
        "circuit_2 = QuantumCircuit(blanks, bit_cal, rcb, an)\n",
        "\n"
      ],
      "metadata": {
        "collapsed": true,
        "id": "Er4vWSpUk9Le"
      },
      "execution_count": 85,
      "outputs": []
    },
    {
      "cell_type": "markdown",
      "source": [
        "### Build the oracle"
      ],
      "metadata": {
        "id": "Pp7l9ax-IXl5"
      }
    },
    {
      "cell_type": "code",
      "source": [
        "#Function checks if circuit satisfies size one permutation at given index\n",
        "def perm_1(circuit, element_1_index, permutations, cond_num):\n",
        "  for perm in permutations:\n",
        "    if perm[0][0] == 0:\n",
        "      circuit.x(blanks[element_1_index])\n",
        "    if perm[0][1] == 0:\n",
        "      circuit.x(blanks[element_1_index + 1])\n",
        "\n",
        "    circuit.ccx(blanks[element_1_index], blanks[element_1_index + 1], rcb[cond_num])\n",
        "\n",
        "    #Return to original state\n",
        "    if perm[0][0] == 0:\n",
        "      circuit.x(blanks[element_1_index])\n",
        "    if perm[0][1] == 0:\n",
        "      circuit.x(blanks[element_1_index + 1])"
      ],
      "metadata": {
        "id": "-MLchpa0kzug"
      },
      "execution_count": 86,
      "outputs": []
    },
    {
      "cell_type": "code",
      "source": [
        "def perm_2(circuit, element_1_index, element_2_index, permutations, cond_num):\n",
        "  for perm in permutations:\n",
        "    if perm[0][0] == 0:\n",
        "      circuit.x(blanks[element_1_index])\n",
        "    if perm[0][1] == 0:\n",
        "      circuit.x(blanks[element_1_index + 1])\n",
        "    circuit.ccx(blanks[element_1_index], blanks[element_1_index + 1], bit_cal[0])\n",
        "\n",
        "    #Return to original state\n",
        "    if perm[0][0] == 0:\n",
        "      circuit.x(blanks[element_1_index])\n",
        "    if perm[0][1] == 0:\n",
        "      circuit.x(blanks[element_1_index + 1])\n",
        "\n",
        "    #Check second set of values\n",
        "    if perm[1][0] == 0:\n",
        "      circuit.x(blanks[element_2_index])\n",
        "    if perm[1][1] == 0:\n",
        "      circuit.x(blanks[element_2_index + 1])\n",
        "    circuit.ccx(blanks[element_2_index], blanks[element_2_index + 1], bit_cal[1])\n",
        "\n",
        "    #Return to original state\n",
        "    if perm[1][0] == 0:\n",
        "      circuit.x(blanks[element_2_index])\n",
        "    if perm[1][1] == 0:\n",
        "      circuit.x(blanks[element_2_index + 1])\n",
        "\n",
        "    #Mark rcb as 1 if conditions met, 0 else\n",
        "    circuit.ccx(bit_cal[0], bit_cal[1], rcb[cond_num])\n",
        "\n"
      ],
      "metadata": {
        "id": "cKpjjN3ltyUm"
      },
      "execution_count": 87,
      "outputs": []
    },
    {
      "cell_type": "code",
      "source": [
        "def perm_3(circuit, element_1_index, element_2_index, element_3_index, permutations, cond_num):\n",
        "  for perm in permutations:\n",
        "    if perm[0][0] == 0:\n",
        "      circuit.x(blanks[element_1_index])\n",
        "    if perm[0][1] == 0:\n",
        "      circuit.x(blanks[element_1_index + 1])\n",
        "    circuit.ccx(blanks[element_1_index], blanks[element_1_index + 1], bit_cal[0])\n",
        "\n",
        "    #Return to original state\n",
        "    if perm[0][0] == 0:\n",
        "      circuit.x(blanks[element_1_index])\n",
        "    if perm[0][1] == 0:\n",
        "      circuit.x(blanks[element_1_index + 1])\n",
        "\n",
        "    #Check second set of values\n",
        "    if perm[1][0] == 0:\n",
        "      circuit.x(blanks[element_2_index])\n",
        "    if perm[1][1] == 0:\n",
        "      circuit.x(blanks[element_2_index + 1])\n",
        "    circuit.ccx(blanks[element_2_index], blanks[element_2_index + 1], bit_cal[1])\n",
        "\n",
        "    #Return to original state\n",
        "    if perm[1][0] == 0:\n",
        "      circuit.x(blanks[element_2_index])\n",
        "    if perm[1][1] == 0:\n",
        "      circuit.x(blanks[element_2_index + 1])\n",
        "\n",
        "    #Check third set of values\n",
        "    if perm[2][0] == 0:\n",
        "      circuit.x(blanks[element_3_index])\n",
        "    if perm[2][1] == 0:\n",
        "      circuit.x(blanks[element_3_index + 1])\n",
        "    circuit.ccx(blanks[element_3_index], blanks[element_3_index + 1], bit_cal[2])\n",
        "\n",
        "    #Return to original state\n",
        "    if perm[2][0] == 0:\n",
        "      circuit.x(blanks[element_3_index])\n",
        "    if perm[2][1] == 0:\n",
        "      circuit.x(blanks[element_3_index + 1])\n",
        "\n",
        "    #Mark rcb as 1 if conditions met, 0 else\n",
        "    circuit.ccx(bit_cal[0], bit_cal[1], bit_cal[3])\n",
        "    circuit.ccx(bit_cal[2], bit_cal[3], rcb[cond_num])"
      ],
      "metadata": {
        "id": "Dd-lcRk9yYNE"
      },
      "execution_count": 88,
      "outputs": []
    },
    {
      "cell_type": "code",
      "source": [
        "def oracle_2(circuit, permutation, location_b):\n",
        "  blank_num = 0\n",
        "  #Test row conditions\n",
        "  for i in range(n**2):\n",
        "    if len(permutation[i]) == 0:\n",
        "      circuit.x(rcb[i])\n",
        "    elif len(permutation[i]) == 1:\n",
        "      perm_1(circuit, blank_num, translate_perm(permutation, i), i)\n",
        "      blank_num = blank_num + 2\n",
        "    elif len(permutation[i]) == 2:\n",
        "      perm_2(circuit, blank_num, blank_num + 2, translate_perm(permutation, i), i)\n",
        "      blank_num = blank_num + 4\n",
        "    elif len(permutation[i]) == 6:\n",
        "      perm_3(circuit, blank_num, blank_num + 2, blank_num + 4, translate_perm(permutation, i), i)\n",
        "      blank_num = blank_num + 6\n",
        "  #Test column conditions\n",
        "  for i in range(n**2):\n",
        "    if len(permutation[i + n**2]) == 0:\n",
        "      circuit.x(rcb[i + n**2])\n",
        "    elif len(permutation[i + n**2]) == 1:\n",
        "      li = return_col_indices(location_b, i)\n",
        "      perm_1(circuit, 2*li[0], translate_perm(permutation, i + n**2), i + n**2)\n",
        "    elif len(permutation[i + n**2]) == 2:\n",
        "      li = return_col_indices(location_b, i)\n",
        "      perm_2(circuit, 2*li[0], 2*li[1], translate_perm(permutation, i + n**2), i + n**2)\n",
        "    elif len(permutation[i + n**2]) == 6:\n",
        "      li = return_col_indices(location_b, i)\n",
        "      perm_3(circuit, 2*li[0], 2*li[1], 2*li[2], translate_perm(permutation, i + n**2), i + n**2)\n",
        "\n",
        "  #Check if all conditions are met by applying multicontrolled z gate, built from H(mcx)H since Z = HXH\n",
        "  circuit.h(an)\n",
        "  circuit.mcx(rcb, an)\n",
        "  circuit.h(an)\n",
        "\n",
        "  #redo all operations to reset registers\n",
        "  blank_num = 0\n",
        "  #Test row conditions\n",
        "  for i in range(n**2):\n",
        "    if len(permutation[i]) == 0:\n",
        "      circuit.x(rcb[i])\n",
        "    elif len(permutation[i]) == 1:\n",
        "      perm_1(circuit, blank_num, translate_perm(permutation, i), i)\n",
        "      blank_num = blank_num + 2\n",
        "    elif len(permutation[i]) == 2:\n",
        "      perm_2(circuit, blank_num, blank_num + 2, translate_perm(permutation, i), i)\n",
        "      blank_num = blank_num + 4\n",
        "    elif len(permutation[i]) == 6:\n",
        "      perm_3(circuit, blank_num, blank_num + 2, blank_num + 4, translate_perm(permutation, i), i)\n",
        "      blank_num = blank_num + 6\n",
        "  #Test column conditions\n",
        "  for i in range(n**2):\n",
        "    if len(permutation[i + n**2]) == 0:\n",
        "      circuit.x(rcb[i + n**2])\n",
        "    elif len(permutation[i + n**2]) == 1:\n",
        "      li = return_col_indices(location_b, i)\n",
        "      perm_1(circuit, 2*li[0], translate_perm(permutation, i + n**2), i + n**2)\n",
        "    elif len(permutation[i + n**2]) == 2:\n",
        "      li = return_col_indices(location_b, i)\n",
        "      perm_2(circuit, 2*li[0], 2*li[1], translate_perm(permutation, i + n**2), i + n**2)\n",
        "    elif len(permutation[i + n**2]) == 6:\n",
        "      li = return_col_indices(location_b, i)\n",
        "      perm_3(circuit, 2*li[0], 2*li[1], 2*li[2], translate_perm(permutation, i + n**2), i + n**2)\n",
        "\n",
        "  O = circuit.to_gate()\n",
        "  return O\n"
      ],
      "metadata": {
        "id": "eInwZqcn8AwR"
      },
      "execution_count": 89,
      "outputs": []
    },
    {
      "cell_type": "code",
      "source": [
        "#Print diagram of the circuit\n",
        "oracle_2(circuit_2, permutation, location_b)\n",
        "circuit_2.draw(output=\"mpl\", style=\"bw\")"
      ],
      "metadata": {
        "colab": {
          "base_uri": "https://localhost:8080/",
          "height": 1000
        },
        "collapsed": true,
        "id": "7H_uj6pL3I27",
        "outputId": "a006479a-ca68-473e-f58c-54c6e527f348"
      },
      "execution_count": 90,
      "outputs": [
        {
          "output_type": "execute_result",
          "data": {
            "text/plain": [
              "<Figure size 1291.03x1454.83 with 1 Axes>"
            ],
            "image/png": "[encoded data removed]"
          },
          "metadata": {},
          "execution_count": 90
        }
      ]
    },
    {
      "cell_type": "markdown",
      "source": [
        "### Applying Grover's Algorithm with optimal number of iterations"
      ],
      "metadata": {
        "id": "n8om1qFFYJKL"
      }
    },
    {
      "cell_type": "code",
      "source": [
        "# Using:\n",
        "# - sp : Number of empty cells\n",
        "# - number_of_values : Number of options for a generic cell (Example: 4 in 4x4)\n",
        "# - iterations : Optimal number of iterations\n",
        "# - max_iterations : Maximum allowed number of iterations (may be kept blank)\n",
        "# - circuit_1 : Grover's circuit (Oracle+Diffuser)\n",
        "\n",
        "# Algorithm with t iterations\n",
        "max_iterations = 101\n",
        "\n",
        "# Calculate the total number of qubits\n",
        "num_q = 2 * sp + 2 + len(conditions) + 1\n",
        "\n",
        "def solving_sudoku(sp, num_q, number_of_values, max_iterations):\n",
        "\n",
        "  cq = QuantumCircuit(num_q)\n",
        "\n",
        "  #Allows a limit in the number of iterations smaller than the optimal.\n",
        "  if max_iterations is not None and max_iterations < iterations:\n",
        "      t = max_iterations\n",
        "      print(f\"Using {t} iterations (reduced from optimal number of iterations {iterations})\")\n",
        "  else:\n",
        "      t = iterations\n",
        "\n",
        "  #Create oracle and diffuser gates\n",
        "\n",
        "  # The oracle_2 function modifies the circuit in place, so we need to apply it to a temporary circuit to get the gate\n",
        "  # Create a temporary circuit for building the oracle gate\n",
        "  # This temporary circuit should only contain the operations that make up the oracle\n",
        "  # Recreate the QuantumRegister and AncillaRegister objects with the correct sizes and names\n",
        "  # so that oracle_2 can be called correctly on temp_oracle_circuit\n",
        "  blanks_temp = QuantumRegister(size = 2 * sp, name = 'e')\n",
        "  bit_cal_temp = AncillaRegister(size = 2, name = 'b')\n",
        "  cond_temp = AncillaRegister(size = len(cond), name = 'c')\n",
        "  an_temp = AncillaRegister(size = 1, name = 'a')\n",
        "\n",
        "  temp_oracle_circuit = QuantumCircuit()\n",
        "\n",
        "  temp_oracle_circuit.add_register(blanks_temp)\n",
        "  temp_oracle_circuit.add_register(bit_cal_temp)\n",
        "  temp_oracle_circuit.add_register(cond_temp)\n",
        "  temp_oracle_circuit.add_register(an_temp)\n",
        "\n",
        "\n",
        "  # The oracle_2 function modifies the circuit in place, populate the temp circuit with oracle operations\n",
        "  # Pass the temporary registers to the oracle_2 function\n",
        "  oracle_1(temp_oracle_circuit, conditions)\n",
        "\n",
        "  # Now, convert the temporary circuit (which only contains gate operations) to a gate\n",
        "  oracle_gate = temp_oracle_circuit.to_gate(label=\"Oracle 1\")\n",
        "\n",
        "  # The diffuser function directly returns a gate\n",
        "  diffuser_gate = diffuser(2 * sp)\n",
        "\n",
        "  # Initialize the 'an' qubit in state |-> for the phase kickback\n",
        "  cq.initialize([1, -1]/np.sqrt(2), num_q - 1)\n",
        "\n",
        "  # Initialize the blank qubits to a uniform superposition\n",
        "  cq.h(range(2 * sp))\n",
        "\n",
        "  # Apply the iterations\n",
        "  print(f\"Running {t}-many Grover iterations\")\n",
        "  for i in range(t):\n",
        "    if i % 10 == 0:\n",
        "      print(f\"Iteration {i}/{t}\")\n",
        "\n",
        "    cq.append(oracle_gate, range(num_q))\n",
        "    cq.append(diffuser_gate, range(2 * sp))\n",
        "\n",
        "  # Obtain the statevector\n",
        "  statevector = Statevector(cq)\n",
        "\n",
        "  # Get the probabilities\n",
        "  prob = statevector.probabilities()\n",
        "\n",
        "  # Find the index of the maximum probability\n",
        "  most_probable_index = prob.argmax()\n",
        "\n",
        "  # Convert the index to the corresponding binary string\n",
        "  num_qubits = cq.num_qubits\n",
        "  most_probable_state = format(most_probable_index, f'0{num_qubits}b')\n",
        "  most_probable_state = most_probable_state[len(most_probable_state) - 2*sp:]\n",
        "\n",
        "  print(\"Probabilities:\", prob)\n",
        "  print(\"Solution:\", most_probable_state)\n",
        "  print(\"Success probability:\", prob[most_probable_index])\n",
        "  return most_probable_state\n",
        "\n",
        "#RUN\n",
        "\n",
        "solution = solving_sudoku(sp, num_q, number_of_values, max_iterations)"
      ],
      "metadata": {
        "colab": {
          "base_uri": "https://localhost:8080/"
        },
        "id": "48vPcg3DZqXJ",
        "outputId": "5308db78-1520-4a2e-de73-25e50cb54250"
      },
      "execution_count": 91,
      "outputs": [
        {
          "output_type": "stream",
          "name": "stdout",
          "text": [
            "Running 3-many Grover iterations\n",
            "Iteration 0/3\n",
            "Probabilities: [0.03125 0.03125 0.03125 ... 0.      0.      0.     ]\n",
            "Solution: 1100\n",
            "Success probability: 0.48065948486326143\n"
          ]
        }
      ]
    },
    {
      "cell_type": "code",
      "source": [
        "#Decode solution and produce solved puzzle\n",
        "def decode_solution(binary_string, location_b, A):\n",
        "  final_solution = A\n",
        "  for i in range(len(location_b)):\n",
        "    bits1, bits2 = binary_string[2*i], binary_string[2*i + 1]\n",
        "    bits1 = int(bits1)\n",
        "    bits2 = int(bits2)\n",
        "    value = 2*(bits1) + bits2\n",
        "    location = location_b[len(location_b)-i-1]\n",
        "    final_solution[location[0]][location[1]] = value\n",
        "  return final_solution\n",
        "\n",
        "decode_solution(solution, location_b, A)"
      ],
      "metadata": {
        "colab": {
          "base_uri": "https://localhost:8080/"
        },
        "id": "tRvEtc_sA-3U",
        "outputId": "2e15d3b4-d6b2-42f8-dc4e-ea250bc45f91"
      },
      "execution_count": 92,
      "outputs": [
        {
          "output_type": "execute_result",
          "data": {
            "text/plain": [
              "array([['2', '0', '3', '1'],\n",
              "       ['1', '3', '2', '0'],\n",
              "       ['0', '2', '1', '3'],\n",
              "       ['3', '1', '0', '2']], dtype='<U21')"
            ]
          },
          "metadata": {},
          "execution_count": 92
        }
      ]
    }
  ]
}